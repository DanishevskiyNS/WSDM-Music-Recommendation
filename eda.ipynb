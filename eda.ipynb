{
 "cells": [
  {
   "cell_type": "code",
   "execution_count": 1,
   "metadata": {},
   "outputs": [],
   "source": [
    "import pandas as pd\n",
    "import numpy as np\n",
    "\n",
    "from sklearn.preprocessing import MinMaxScaler\n",
    "from sklearn.preprocessing import LabelEncoder\n",
    "from sklearn.model_selection import train_test_split, cross_val_score, KFold\n",
    "\n",
    "from sklearn.metrics import ndcg_score, make_scorer\n",
    "\n",
    "from sklearn.linear_model import LogisticRegression\n",
    "import catboost as cb\n",
    "import xgboost as xgb"
   ]
  },
  {
   "cell_type": "code",
   "execution_count": 2,
   "metadata": {},
   "outputs": [],
   "source": [
    "# в сыром виде набор обучающих данных занимает порядка 1.1 ГБ, \n",
    "# Сократим объём памяти с помощью изменения типа данных\n",
    "def read_data_memory_efficiently(path_to_csv, eff = True):\n",
    "    df = pd.read_csv(path_to_csv)\n",
    "\n",
    "    if eff:\n",
    "    \n",
    "        for column in df.columns:\n",
    "            column_dtype = df[column].dtype\n",
    "            \n",
    "            if column_dtype != object:\n",
    "                column_min = df[column].min()\n",
    "                column_max = df[column].max()\n",
    "                \n",
    "                if str(column_dtype)[:3] == 'int':\n",
    "                    if column_min > np.iinfo(np.int8).min and column_max < np.iinfo(np.int8).max:\n",
    "                        df[column] = df[column].astype(np.int8)\n",
    "                    elif column_min > np.iinfo(np.int16).min and column_max < np.iinfo(np.int16).max:\n",
    "                        df[column] = df[column].astype(np.int16)\n",
    "                    elif column_min > np.iinfo(np.int32).min and column_max < np.iinfo(np.int32).max:\n",
    "                        df[column] = df[column].astype(np.int32)\n",
    "                    elif column_min > np.iinfo(np.int64).min and column_max < np.iinfo(np.int64).max:\n",
    "                        df[column] = df[column].astype(np.int64)  \n",
    "                else:\n",
    "                    if column_min > np.finfo(np.float16).min and column_max < np.finfo(np.float16).max:\n",
    "                        df[column] = df[column].astype(np.float16)\n",
    "                    elif column_min > np.finfo(np.float32).min and column_max < np.finfo(np.float32).max:\n",
    "                        df[column] = df[column].astype(np.float32)\n",
    "                    else:\n",
    "                        df[column] = df[column].astype(np.float64)\n",
    "\n",
    "        result_mem_usage = df.memory_usage().sum() / 1024**2\n",
    "        print('Memory usage of {0} dataframe: {1} MB'.format(path_to_csv, result_mem_usage))\n",
    "    \n",
    "    return df\n",
    "\n",
    "def show_missing_percent(df):\n",
    "    C=len(df.columns)\n",
    "    L=len(df.index)\n",
    "    CN=df.count() #количество\n",
    "    NP=((L-CN)/L)*100 #процент пропущенных значений\n",
    "    f = pd.DataFrame([NP], index=['Процент пропусков']).style.apply(\n",
    "                lambda x: [\"background-color:tomato\" if i>=35 else \"\" for i in x], axis=1, subset=([\"Процент пропусков\"], slice(None))\n",
    "        ).apply(\n",
    "                lambda x: [\"background-color:steelblue\" if (i>5 and i<35) else \"\" for i in x], axis=1, subset=([\"Процент пропусков\"], slice(None))\n",
    "        )\n",
    "    return f"
   ]
  },
  {
   "cell_type": "code",
   "execution_count": 3,
   "metadata": {},
   "outputs": [
    {
     "name": "stdout",
     "output_type": "stream",
     "text": [
      "Memory usage of data//songs.csv dataframe: 100.73743057250977 MB\n",
      "Memory usage of data//members.csv dataframe: 0.9187850952148438 MB\n",
      "Memory usage of data//train.csv dataframe: 288.4619426727295 MB\n"
     ]
    }
   ],
   "source": [
    "songs_df = read_data_memory_efficiently('data//songs.csv')\n",
    "members_df = read_data_memory_efficiently('data//members.csv')\n",
    "train_df = read_data_memory_efficiently('data//train.csv')"
   ]
  },
  {
   "cell_type": "markdown",
   "metadata": {},
   "source": [
    "### Обрабатываем пользователей"
   ]
  },
  {
   "cell_type": "code",
   "execution_count": 4,
   "metadata": {},
   "outputs": [
    {
     "data": {
      "text/html": [
       "<div>\n",
       "<style scoped>\n",
       "    .dataframe tbody tr th:only-of-type {\n",
       "        vertical-align: middle;\n",
       "    }\n",
       "\n",
       "    .dataframe tbody tr th {\n",
       "        vertical-align: top;\n",
       "    }\n",
       "\n",
       "    .dataframe thead th {\n",
       "        text-align: right;\n",
       "    }\n",
       "</style>\n",
       "<table border=\"1\" class=\"dataframe\">\n",
       "  <thead>\n",
       "    <tr style=\"text-align: right;\">\n",
       "      <th></th>\n",
       "      <th>msno</th>\n",
       "      <th>city</th>\n",
       "      <th>bd</th>\n",
       "      <th>gender</th>\n",
       "      <th>registered_via</th>\n",
       "      <th>registration_init_time</th>\n",
       "      <th>expiration_date</th>\n",
       "    </tr>\n",
       "  </thead>\n",
       "  <tbody>\n",
       "    <tr>\n",
       "      <th>0</th>\n",
       "      <td>XQxgAYj3klVKjR3oxPPXYYFp4soD4TuBghkhMTD4oTw=</td>\n",
       "      <td>1</td>\n",
       "      <td>0</td>\n",
       "      <td>NaN</td>\n",
       "      <td>7</td>\n",
       "      <td>20110820</td>\n",
       "      <td>20170920</td>\n",
       "    </tr>\n",
       "    <tr>\n",
       "      <th>1</th>\n",
       "      <td>UizsfmJb9mV54qE9hCYyU07Va97c0lCRLEQX3ae+ztM=</td>\n",
       "      <td>1</td>\n",
       "      <td>0</td>\n",
       "      <td>NaN</td>\n",
       "      <td>7</td>\n",
       "      <td>20150628</td>\n",
       "      <td>20170622</td>\n",
       "    </tr>\n",
       "    <tr>\n",
       "      <th>2</th>\n",
       "      <td>D8nEhsIOBSoE6VthTaqDX8U6lqjJ7dLdr72mOyLya2A=</td>\n",
       "      <td>1</td>\n",
       "      <td>0</td>\n",
       "      <td>NaN</td>\n",
       "      <td>4</td>\n",
       "      <td>20160411</td>\n",
       "      <td>20170712</td>\n",
       "    </tr>\n",
       "    <tr>\n",
       "      <th>3</th>\n",
       "      <td>mCuD+tZ1hERA/o5GPqk38e041J8ZsBaLcu7nGoIIvhI=</td>\n",
       "      <td>1</td>\n",
       "      <td>0</td>\n",
       "      <td>NaN</td>\n",
       "      <td>9</td>\n",
       "      <td>20150906</td>\n",
       "      <td>20150907</td>\n",
       "    </tr>\n",
       "    <tr>\n",
       "      <th>4</th>\n",
       "      <td>q4HRBfVSssAFS9iRfxWrohxuk9kCYMKjHOEagUMV6rQ=</td>\n",
       "      <td>1</td>\n",
       "      <td>0</td>\n",
       "      <td>NaN</td>\n",
       "      <td>4</td>\n",
       "      <td>20170126</td>\n",
       "      <td>20170613</td>\n",
       "    </tr>\n",
       "  </tbody>\n",
       "</table>\n",
       "</div>"
      ],
      "text/plain": [
       "                                           msno  city  bd gender  \\\n",
       "0  XQxgAYj3klVKjR3oxPPXYYFp4soD4TuBghkhMTD4oTw=     1   0    NaN   \n",
       "1  UizsfmJb9mV54qE9hCYyU07Va97c0lCRLEQX3ae+ztM=     1   0    NaN   \n",
       "2  D8nEhsIOBSoE6VthTaqDX8U6lqjJ7dLdr72mOyLya2A=     1   0    NaN   \n",
       "3  mCuD+tZ1hERA/o5GPqk38e041J8ZsBaLcu7nGoIIvhI=     1   0    NaN   \n",
       "4  q4HRBfVSssAFS9iRfxWrohxuk9kCYMKjHOEagUMV6rQ=     1   0    NaN   \n",
       "\n",
       "   registered_via  registration_init_time  expiration_date  \n",
       "0               7                20110820         20170920  \n",
       "1               7                20150628         20170622  \n",
       "2               4                20160411         20170712  \n",
       "3               9                20150906         20150907  \n",
       "4               4                20170126         20170613  "
      ]
     },
     "execution_count": 4,
     "metadata": {},
     "output_type": "execute_result"
    }
   ],
   "source": [
    "members_df.head()"
   ]
  },
  {
   "cell_type": "code",
   "execution_count": 5,
   "metadata": {},
   "outputs": [
    {
     "name": "stdout",
     "output_type": "stream",
     "text": [
      "<class 'pandas.core.frame.DataFrame'>\n",
      "RangeIndex: 34403 entries, 0 to 34402\n",
      "Data columns (total 7 columns):\n",
      " #   Column                  Non-Null Count  Dtype \n",
      "---  ------                  --------------  ----- \n",
      " 0   msno                    34403 non-null  object\n",
      " 1   city                    34403 non-null  int8  \n",
      " 2   bd                      34403 non-null  int16 \n",
      " 3   gender                  14501 non-null  object\n",
      " 4   registered_via          34403 non-null  int8  \n",
      " 5   registration_init_time  34403 non-null  int32 \n",
      " 6   expiration_date         34403 non-null  int32 \n",
      "dtypes: int16(1), int32(2), int8(2), object(2)\n",
      "memory usage: 940.8+ KB\n"
     ]
    }
   ],
   "source": [
    "members_df.info()"
   ]
  },
  {
   "cell_type": "code",
   "execution_count": 4,
   "metadata": {},
   "outputs": [
    {
     "data": {
      "text/html": [
       "<style type=\"text/css\">\n",
       "#T_9e2d3_row0_col3 {\n",
       "  background-color: tomato;\n",
       "}\n",
       "</style>\n",
       "<table id=\"T_9e2d3\">\n",
       "  <thead>\n",
       "    <tr>\n",
       "      <th class=\"blank level0\" >&nbsp;</th>\n",
       "      <th id=\"T_9e2d3_level0_col0\" class=\"col_heading level0 col0\" >msno</th>\n",
       "      <th id=\"T_9e2d3_level0_col1\" class=\"col_heading level0 col1\" >city</th>\n",
       "      <th id=\"T_9e2d3_level0_col2\" class=\"col_heading level0 col2\" >bd</th>\n",
       "      <th id=\"T_9e2d3_level0_col3\" class=\"col_heading level0 col3\" >gender</th>\n",
       "      <th id=\"T_9e2d3_level0_col4\" class=\"col_heading level0 col4\" >registered_via</th>\n",
       "      <th id=\"T_9e2d3_level0_col5\" class=\"col_heading level0 col5\" >registration_init_time</th>\n",
       "      <th id=\"T_9e2d3_level0_col6\" class=\"col_heading level0 col6\" >expiration_date</th>\n",
       "    </tr>\n",
       "  </thead>\n",
       "  <tbody>\n",
       "    <tr>\n",
       "      <th id=\"T_9e2d3_level0_row0\" class=\"row_heading level0 row0\" >Процент пропусков</th>\n",
       "      <td id=\"T_9e2d3_row0_col0\" class=\"data row0 col0\" >0.000000</td>\n",
       "      <td id=\"T_9e2d3_row0_col1\" class=\"data row0 col1\" >0.000000</td>\n",
       "      <td id=\"T_9e2d3_row0_col2\" class=\"data row0 col2\" >0.000000</td>\n",
       "      <td id=\"T_9e2d3_row0_col3\" class=\"data row0 col3\" >57.849606</td>\n",
       "      <td id=\"T_9e2d3_row0_col4\" class=\"data row0 col4\" >0.000000</td>\n",
       "      <td id=\"T_9e2d3_row0_col5\" class=\"data row0 col5\" >0.000000</td>\n",
       "      <td id=\"T_9e2d3_row0_col6\" class=\"data row0 col6\" >0.000000</td>\n",
       "    </tr>\n",
       "  </tbody>\n",
       "</table>\n"
      ],
      "text/plain": [
       "<pandas.io.formats.style.Styler at 0x222756a6350>"
      ]
     },
     "execution_count": 4,
     "metadata": {},
     "output_type": "execute_result"
    }
   ],
   "source": [
    "show_missing_percent(members_df)"
   ]
  },
  {
   "cell_type": "code",
   "execution_count": 34,
   "metadata": {},
   "outputs": [
    {
     "name": "stderr",
     "output_type": "stream",
     "text": [
      "C:\\Users\\lenovo\\AppData\\Local\\Temp\\ipykernel_1312\\3130653658.py:2: FutureWarning: errors='ignore' is deprecated and will raise in a future version. Use to_datetime without passing `errors` and catch exceptions explicitly instead\n",
      "  members_df['registration_init_time'] = pd.to_datetime(members_df['registration_init_time'], format='%Y%m%d', errors='ignore')\n",
      "C:\\Users\\lenovo\\AppData\\Local\\Temp\\ipykernel_1312\\3130653658.py:5: FutureWarning: errors='ignore' is deprecated and will raise in a future version. Use to_datetime without passing `errors` and catch exceptions explicitly instead\n",
      "  members_df['expiration_date'] = pd.to_datetime(members_df['expiration_date'], format='%Y%m%d', errors='ignore')\n"
     ]
    },
    {
     "data": {
      "text/html": [
       "<div>\n",
       "<style scoped>\n",
       "    .dataframe tbody tr th:only-of-type {\n",
       "        vertical-align: middle;\n",
       "    }\n",
       "\n",
       "    .dataframe tbody tr th {\n",
       "        vertical-align: top;\n",
       "    }\n",
       "\n",
       "    .dataframe thead th {\n",
       "        text-align: right;\n",
       "    }\n",
       "</style>\n",
       "<table border=\"1\" class=\"dataframe\">\n",
       "  <thead>\n",
       "    <tr style=\"text-align: right;\">\n",
       "      <th></th>\n",
       "      <th>msno</th>\n",
       "      <th>city</th>\n",
       "      <th>bd</th>\n",
       "      <th>gender</th>\n",
       "      <th>registered_via</th>\n",
       "      <th>registration_init_time_year</th>\n",
       "      <th>period_of_membership</th>\n",
       "      <th>expiration_date_year</th>\n",
       "    </tr>\n",
       "  </thead>\n",
       "  <tbody>\n",
       "    <tr>\n",
       "      <th>0</th>\n",
       "      <td>XQxgAYj3klVKjR3oxPPXYYFp4soD4TuBghkhMTD4oTw=</td>\n",
       "      <td>1</td>\n",
       "      <td>0</td>\n",
       "      <td>NaN</td>\n",
       "      <td>7</td>\n",
       "      <td>2011</td>\n",
       "      <td>2223</td>\n",
       "      <td>2017</td>\n",
       "    </tr>\n",
       "    <tr>\n",
       "      <th>1</th>\n",
       "      <td>UizsfmJb9mV54qE9hCYyU07Va97c0lCRLEQX3ae+ztM=</td>\n",
       "      <td>1</td>\n",
       "      <td>0</td>\n",
       "      <td>NaN</td>\n",
       "      <td>7</td>\n",
       "      <td>2015</td>\n",
       "      <td>725</td>\n",
       "      <td>2017</td>\n",
       "    </tr>\n",
       "    <tr>\n",
       "      <th>2</th>\n",
       "      <td>D8nEhsIOBSoE6VthTaqDX8U6lqjJ7dLdr72mOyLya2A=</td>\n",
       "      <td>1</td>\n",
       "      <td>0</td>\n",
       "      <td>NaN</td>\n",
       "      <td>4</td>\n",
       "      <td>2016</td>\n",
       "      <td>457</td>\n",
       "      <td>2017</td>\n",
       "    </tr>\n",
       "    <tr>\n",
       "      <th>3</th>\n",
       "      <td>mCuD+tZ1hERA/o5GPqk38e041J8ZsBaLcu7nGoIIvhI=</td>\n",
       "      <td>1</td>\n",
       "      <td>0</td>\n",
       "      <td>NaN</td>\n",
       "      <td>9</td>\n",
       "      <td>2015</td>\n",
       "      <td>1</td>\n",
       "      <td>2015</td>\n",
       "    </tr>\n",
       "    <tr>\n",
       "      <th>4</th>\n",
       "      <td>q4HRBfVSssAFS9iRfxWrohxuk9kCYMKjHOEagUMV6rQ=</td>\n",
       "      <td>1</td>\n",
       "      <td>0</td>\n",
       "      <td>NaN</td>\n",
       "      <td>4</td>\n",
       "      <td>2017</td>\n",
       "      <td>138</td>\n",
       "      <td>2017</td>\n",
       "    </tr>\n",
       "  </tbody>\n",
       "</table>\n",
       "</div>"
      ],
      "text/plain": [
       "                                           msno  city  bd gender  \\\n",
       "0  XQxgAYj3klVKjR3oxPPXYYFp4soD4TuBghkhMTD4oTw=     1   0    NaN   \n",
       "1  UizsfmJb9mV54qE9hCYyU07Va97c0lCRLEQX3ae+ztM=     1   0    NaN   \n",
       "2  D8nEhsIOBSoE6VthTaqDX8U6lqjJ7dLdr72mOyLya2A=     1   0    NaN   \n",
       "3  mCuD+tZ1hERA/o5GPqk38e041J8ZsBaLcu7nGoIIvhI=     1   0    NaN   \n",
       "4  q4HRBfVSssAFS9iRfxWrohxuk9kCYMKjHOEagUMV6rQ=     1   0    NaN   \n",
       "\n",
       "   registered_via  registration_init_time_year  period_of_membership  \\\n",
       "0               7                         2011                  2223   \n",
       "1               7                         2015                   725   \n",
       "2               4                         2016                   457   \n",
       "3               9                         2015                     1   \n",
       "4               4                         2017                   138   \n",
       "\n",
       "   expiration_date_year  \n",
       "0                  2017  \n",
       "1                  2017  \n",
       "2                  2017  \n",
       "3                  2015  \n",
       "4                  2017  "
      ]
     },
     "execution_count": 34,
     "metadata": {},
     "output_type": "execute_result"
    }
   ],
   "source": [
    "# создаём фичу - время пользования пребываения пользователем платформы\n",
    "members_df['registration_init_time'] = pd.to_datetime(members_df['registration_init_time'], format='%Y%m%d', errors='ignore')\n",
    "members_df['registration_init_time_year'] = members_df['registration_init_time'].dt.year\n",
    "\n",
    "members_df['expiration_date'] = pd.to_datetime(members_df['expiration_date'], format='%Y%m%d', errors='ignore')\n",
    "members_df['period_of_membership'] = (members_df['expiration_date'] - members_df['registration_init_time']).dt.days.astype(int)\n",
    "members_df['expiration_date_year'] = members_df['expiration_date'].dt.year\n",
    "\n",
    "members_df.drop(columns=['registration_init_time', 'expiration_date'], inplace=True)\n",
    "members_df.head()"
   ]
  },
  {
   "cell_type": "code",
   "execution_count": null,
   "metadata": {},
   "outputs": [],
   "source": [
    "# удаляем гендер так как слишком много пропусков\n",
    "members_df.drop(columns=['gender'], inplace=True)"
   ]
  },
  {
   "cell_type": "code",
   "execution_count": null,
   "metadata": {},
   "outputs": [],
   "source": [
    "# мин макс нормализация\n",
    "ms = MinMaxScaler()\n",
    "members_df['period_of_membership'] = ms.fit_transform(members_df['period_of_membership'])"
   ]
  },
  {
   "cell_type": "code",
   "execution_count": 5,
   "metadata": {},
   "outputs": [
    {
     "name": "stderr",
     "output_type": "stream",
     "text": [
      "C:\\Users\\lenovo\\AppData\\Local\\Temp\\ipykernel_16028\\4032915342.py:3: FutureWarning: errors='ignore' is deprecated and will raise in a future version. Use to_datetime without passing `errors` and catch exceptions explicitly instead\n",
      "  members_df_['registration_init_time'] = pd.to_datetime(members_df_['registration_init_time'], format='%Y%m%d', errors='ignore')\n",
      "C:\\Users\\lenovo\\AppData\\Local\\Temp\\ipykernel_16028\\4032915342.py:6: FutureWarning: errors='ignore' is deprecated and will raise in a future version. Use to_datetime without passing `errors` and catch exceptions explicitly instead\n",
      "  members_df_['expiration_date'] = pd.to_datetime(members_df_['expiration_date'], format='%Y%m%d', errors='ignore')\n"
     ]
    },
    {
     "data": {
      "text/html": [
       "<div>\n",
       "<style scoped>\n",
       "    .dataframe tbody tr th:only-of-type {\n",
       "        vertical-align: middle;\n",
       "    }\n",
       "\n",
       "    .dataframe tbody tr th {\n",
       "        vertical-align: top;\n",
       "    }\n",
       "\n",
       "    .dataframe thead th {\n",
       "        text-align: right;\n",
       "    }\n",
       "</style>\n",
       "<table border=\"1\" class=\"dataframe\">\n",
       "  <thead>\n",
       "    <tr style=\"text-align: right;\">\n",
       "      <th></th>\n",
       "      <th>msno</th>\n",
       "      <th>city</th>\n",
       "      <th>bd</th>\n",
       "      <th>registered_via</th>\n",
       "      <th>registration_init_time_year</th>\n",
       "      <th>period_of_membership</th>\n",
       "      <th>expiration_date_year</th>\n",
       "    </tr>\n",
       "  </thead>\n",
       "  <tbody>\n",
       "    <tr>\n",
       "      <th>0</th>\n",
       "      <td>XQxgAYj3klVKjR3oxPPXYYFp4soD4TuBghkhMTD4oTw=</td>\n",
       "      <td>1</td>\n",
       "      <td>0</td>\n",
       "      <td>7</td>\n",
       "      <td>2011</td>\n",
       "      <td>2223</td>\n",
       "      <td>2017</td>\n",
       "    </tr>\n",
       "    <tr>\n",
       "      <th>1</th>\n",
       "      <td>UizsfmJb9mV54qE9hCYyU07Va97c0lCRLEQX3ae+ztM=</td>\n",
       "      <td>1</td>\n",
       "      <td>0</td>\n",
       "      <td>7</td>\n",
       "      <td>2015</td>\n",
       "      <td>725</td>\n",
       "      <td>2017</td>\n",
       "    </tr>\n",
       "    <tr>\n",
       "      <th>2</th>\n",
       "      <td>D8nEhsIOBSoE6VthTaqDX8U6lqjJ7dLdr72mOyLya2A=</td>\n",
       "      <td>1</td>\n",
       "      <td>0</td>\n",
       "      <td>4</td>\n",
       "      <td>2016</td>\n",
       "      <td>457</td>\n",
       "      <td>2017</td>\n",
       "    </tr>\n",
       "    <tr>\n",
       "      <th>3</th>\n",
       "      <td>mCuD+tZ1hERA/o5GPqk38e041J8ZsBaLcu7nGoIIvhI=</td>\n",
       "      <td>1</td>\n",
       "      <td>0</td>\n",
       "      <td>9</td>\n",
       "      <td>2015</td>\n",
       "      <td>1</td>\n",
       "      <td>2015</td>\n",
       "    </tr>\n",
       "    <tr>\n",
       "      <th>4</th>\n",
       "      <td>q4HRBfVSssAFS9iRfxWrohxuk9kCYMKjHOEagUMV6rQ=</td>\n",
       "      <td>1</td>\n",
       "      <td>0</td>\n",
       "      <td>4</td>\n",
       "      <td>2017</td>\n",
       "      <td>138</td>\n",
       "      <td>2017</td>\n",
       "    </tr>\n",
       "  </tbody>\n",
       "</table>\n",
       "</div>"
      ],
      "text/plain": [
       "                                           msno  city  bd  registered_via  \\\n",
       "0  XQxgAYj3klVKjR3oxPPXYYFp4soD4TuBghkhMTD4oTw=     1   0               7   \n",
       "1  UizsfmJb9mV54qE9hCYyU07Va97c0lCRLEQX3ae+ztM=     1   0               7   \n",
       "2  D8nEhsIOBSoE6VthTaqDX8U6lqjJ7dLdr72mOyLya2A=     1   0               4   \n",
       "3  mCuD+tZ1hERA/o5GPqk38e041J8ZsBaLcu7nGoIIvhI=     1   0               9   \n",
       "4  q4HRBfVSssAFS9iRfxWrohxuk9kCYMKjHOEagUMV6rQ=     1   0               4   \n",
       "\n",
       "   registration_init_time_year  period_of_membership  expiration_date_year  \n",
       "0                         2011                  2223                  2017  \n",
       "1                         2015                   725                  2017  \n",
       "2                         2016                   457                  2017  \n",
       "3                         2015                     1                  2015  \n",
       "4                         2017                   138                  2017  "
      ]
     },
     "execution_count": 5,
     "metadata": {},
     "output_type": "execute_result"
    }
   ],
   "source": [
    "def preprocess_members(members_df_):\n",
    "    # создаём фичу - время пользования пребываения пользователем платформы\n",
    "    members_df_['registration_init_time'] = pd.to_datetime(members_df_['registration_init_time'], format='%Y%m%d', errors='ignore')\n",
    "    members_df_['registration_init_time_year'] = members_df_['registration_init_time'].dt.year\n",
    "\n",
    "    members_df_['expiration_date'] = pd.to_datetime(members_df_['expiration_date'], format='%Y%m%d', errors='ignore')\n",
    "    members_df_['period_of_membership'] = (members_df_['expiration_date'] - members_df_['registration_init_time']).dt.days.astype(int)\n",
    "    members_df_['expiration_date_year'] = members_df_['expiration_date'].dt.year\n",
    "\n",
    "    members_df_.drop(columns=['registration_init_time', 'expiration_date'], inplace=True)\n",
    "    members_df_.drop(columns=['gender'], inplace=True)\n",
    "    return members_df_\n",
    "\n",
    "members_df = preprocess_members(members_df)\n",
    "members_df.head()"
   ]
  },
  {
   "cell_type": "code",
   "execution_count": 8,
   "metadata": {},
   "outputs": [
    {
     "data": {
      "text/html": [
       "<style type=\"text/css\">\n",
       "</style>\n",
       "<table id=\"T_2f7c2\">\n",
       "  <thead>\n",
       "    <tr>\n",
       "      <th class=\"blank level0\" >&nbsp;</th>\n",
       "      <th id=\"T_2f7c2_level0_col0\" class=\"col_heading level0 col0\" >msno</th>\n",
       "      <th id=\"T_2f7c2_level0_col1\" class=\"col_heading level0 col1\" >city</th>\n",
       "      <th id=\"T_2f7c2_level0_col2\" class=\"col_heading level0 col2\" >bd</th>\n",
       "      <th id=\"T_2f7c2_level0_col3\" class=\"col_heading level0 col3\" >registered_via</th>\n",
       "      <th id=\"T_2f7c2_level0_col4\" class=\"col_heading level0 col4\" >registration_init_time_year</th>\n",
       "      <th id=\"T_2f7c2_level0_col5\" class=\"col_heading level0 col5\" >period_of_membership</th>\n",
       "      <th id=\"T_2f7c2_level0_col6\" class=\"col_heading level0 col6\" >expiration_date_year</th>\n",
       "    </tr>\n",
       "  </thead>\n",
       "  <tbody>\n",
       "    <tr>\n",
       "      <th id=\"T_2f7c2_level0_row0\" class=\"row_heading level0 row0\" >Процент пропусков</th>\n",
       "      <td id=\"T_2f7c2_row0_col0\" class=\"data row0 col0\" >0.000000</td>\n",
       "      <td id=\"T_2f7c2_row0_col1\" class=\"data row0 col1\" >0.000000</td>\n",
       "      <td id=\"T_2f7c2_row0_col2\" class=\"data row0 col2\" >0.000000</td>\n",
       "      <td id=\"T_2f7c2_row0_col3\" class=\"data row0 col3\" >0.000000</td>\n",
       "      <td id=\"T_2f7c2_row0_col4\" class=\"data row0 col4\" >0.000000</td>\n",
       "      <td id=\"T_2f7c2_row0_col5\" class=\"data row0 col5\" >0.000000</td>\n",
       "      <td id=\"T_2f7c2_row0_col6\" class=\"data row0 col6\" >0.000000</td>\n",
       "    </tr>\n",
       "  </tbody>\n",
       "</table>\n"
      ],
      "text/plain": [
       "<pandas.io.formats.style.Styler at 0x21e8db34b10>"
      ]
     },
     "execution_count": 8,
     "metadata": {},
     "output_type": "execute_result"
    }
   ],
   "source": [
    "show_missing_percent(members_df)"
   ]
  },
  {
   "cell_type": "markdown",
   "metadata": {},
   "source": [
    "### Обрабатываем песни"
   ]
  },
  {
   "cell_type": "code",
   "execution_count": 6,
   "metadata": {},
   "outputs": [
    {
     "data": {
      "text/html": [
       "<div>\n",
       "<style scoped>\n",
       "    .dataframe tbody tr th:only-of-type {\n",
       "        vertical-align: middle;\n",
       "    }\n",
       "\n",
       "    .dataframe tbody tr th {\n",
       "        vertical-align: top;\n",
       "    }\n",
       "\n",
       "    .dataframe thead th {\n",
       "        text-align: right;\n",
       "    }\n",
       "</style>\n",
       "<table border=\"1\" class=\"dataframe\">\n",
       "  <thead>\n",
       "    <tr style=\"text-align: right;\">\n",
       "      <th></th>\n",
       "      <th>song_id</th>\n",
       "      <th>song_length</th>\n",
       "      <th>genre_ids</th>\n",
       "      <th>artist_name</th>\n",
       "      <th>composer</th>\n",
       "      <th>lyricist</th>\n",
       "      <th>language</th>\n",
       "    </tr>\n",
       "  </thead>\n",
       "  <tbody>\n",
       "    <tr>\n",
       "      <th>0</th>\n",
       "      <td>CXoTN1eb7AI+DntdU1vbcwGRV4SCIDxZu+YD8JP8r4E=</td>\n",
       "      <td>247640</td>\n",
       "      <td>465</td>\n",
       "      <td>張信哲 (Jeff Chang)</td>\n",
       "      <td>董貞</td>\n",
       "      <td>何啟弘</td>\n",
       "      <td>3.0</td>\n",
       "    </tr>\n",
       "    <tr>\n",
       "      <th>1</th>\n",
       "      <td>o0kFgae9QtnYgRkVPqLJwa05zIhRlUjfF7O1tDw0ZDU=</td>\n",
       "      <td>197328</td>\n",
       "      <td>444</td>\n",
       "      <td>BLACKPINK</td>\n",
       "      <td>TEDDY|  FUTURE BOUNCE|  Bekuh BOOM</td>\n",
       "      <td>TEDDY</td>\n",
       "      <td>31.0</td>\n",
       "    </tr>\n",
       "    <tr>\n",
       "      <th>2</th>\n",
       "      <td>DwVvVurfpuz+XPuFvucclVQEyPqcpUkHR0ne1RQzPs0=</td>\n",
       "      <td>231781</td>\n",
       "      <td>465</td>\n",
       "      <td>SUPER JUNIOR</td>\n",
       "      <td>NaN</td>\n",
       "      <td>NaN</td>\n",
       "      <td>31.0</td>\n",
       "    </tr>\n",
       "    <tr>\n",
       "      <th>3</th>\n",
       "      <td>dKMBWoZyScdxSkihKG+Vf47nc18N9q4m58+b4e7dSSE=</td>\n",
       "      <td>273554</td>\n",
       "      <td>465</td>\n",
       "      <td>S.H.E</td>\n",
       "      <td>湯小康</td>\n",
       "      <td>徐世珍</td>\n",
       "      <td>3.0</td>\n",
       "    </tr>\n",
       "    <tr>\n",
       "      <th>4</th>\n",
       "      <td>W3bqWd3T+VeHFzHAUfARgW9AvVRaF4N5Yzm4Mr6Eo/o=</td>\n",
       "      <td>140329</td>\n",
       "      <td>726</td>\n",
       "      <td>貴族精選</td>\n",
       "      <td>Traditional</td>\n",
       "      <td>Traditional</td>\n",
       "      <td>52.0</td>\n",
       "    </tr>\n",
       "  </tbody>\n",
       "</table>\n",
       "</div>"
      ],
      "text/plain": [
       "                                        song_id  song_length genre_ids  \\\n",
       "0  CXoTN1eb7AI+DntdU1vbcwGRV4SCIDxZu+YD8JP8r4E=       247640       465   \n",
       "1  o0kFgae9QtnYgRkVPqLJwa05zIhRlUjfF7O1tDw0ZDU=       197328       444   \n",
       "2  DwVvVurfpuz+XPuFvucclVQEyPqcpUkHR0ne1RQzPs0=       231781       465   \n",
       "3  dKMBWoZyScdxSkihKG+Vf47nc18N9q4m58+b4e7dSSE=       273554       465   \n",
       "4  W3bqWd3T+VeHFzHAUfARgW9AvVRaF4N5Yzm4Mr6Eo/o=       140329       726   \n",
       "\n",
       "        artist_name                            composer     lyricist  language  \n",
       "0  張信哲 (Jeff Chang)                                  董貞          何啟弘       3.0  \n",
       "1         BLACKPINK  TEDDY|  FUTURE BOUNCE|  Bekuh BOOM        TEDDY      31.0  \n",
       "2      SUPER JUNIOR                                 NaN          NaN      31.0  \n",
       "3             S.H.E                                 湯小康          徐世珍       3.0  \n",
       "4              貴族精選                         Traditional  Traditional      52.0  "
      ]
     },
     "execution_count": 6,
     "metadata": {},
     "output_type": "execute_result"
    }
   ],
   "source": [
    "songs_df.head()"
   ]
  },
  {
   "cell_type": "code",
   "execution_count": 10,
   "metadata": {},
   "outputs": [
    {
     "data": {
      "text/plain": [
       "'864|857|850|843'"
      ]
     },
     "execution_count": 10,
     "metadata": {},
     "output_type": "execute_result"
    }
   ],
   "source": [
    "songs_df['genre_ids'][5]"
   ]
  },
  {
   "cell_type": "code",
   "execution_count": 11,
   "metadata": {},
   "outputs": [
    {
     "name": "stdout",
     "output_type": "stream",
     "text": [
      "<class 'pandas.core.frame.DataFrame'>\n",
      "RangeIndex: 2296320 entries, 0 to 2296319\n",
      "Data columns (total 7 columns):\n",
      " #   Column       Dtype  \n",
      "---  ------       -----  \n",
      " 0   song_id      object \n",
      " 1   song_length  int32  \n",
      " 2   genre_ids    object \n",
      " 3   artist_name  object \n",
      " 4   composer     object \n",
      " 5   lyricist     object \n",
      " 6   language     float16\n",
      "dtypes: float16(1), int32(1), object(5)\n",
      "memory usage: 100.7+ MB\n"
     ]
    }
   ],
   "source": [
    "songs_df.info()"
   ]
  },
  {
   "cell_type": "code",
   "execution_count": 12,
   "metadata": {},
   "outputs": [
    {
     "data": {
      "text/html": [
       "<style type=\"text/css\">\n",
       "#T_666fd_row0_col4, #T_666fd_row0_col5 {\n",
       "  background-color: tomato;\n",
       "}\n",
       "</style>\n",
       "<table id=\"T_666fd\">\n",
       "  <thead>\n",
       "    <tr>\n",
       "      <th class=\"blank level0\" >&nbsp;</th>\n",
       "      <th id=\"T_666fd_level0_col0\" class=\"col_heading level0 col0\" >song_id</th>\n",
       "      <th id=\"T_666fd_level0_col1\" class=\"col_heading level0 col1\" >song_length</th>\n",
       "      <th id=\"T_666fd_level0_col2\" class=\"col_heading level0 col2\" >genre_ids</th>\n",
       "      <th id=\"T_666fd_level0_col3\" class=\"col_heading level0 col3\" >artist_name</th>\n",
       "      <th id=\"T_666fd_level0_col4\" class=\"col_heading level0 col4\" >composer</th>\n",
       "      <th id=\"T_666fd_level0_col5\" class=\"col_heading level0 col5\" >lyricist</th>\n",
       "      <th id=\"T_666fd_level0_col6\" class=\"col_heading level0 col6\" >language</th>\n",
       "    </tr>\n",
       "  </thead>\n",
       "  <tbody>\n",
       "    <tr>\n",
       "      <th id=\"T_666fd_level0_row0\" class=\"row_heading level0 row0\" >Процент пропусков</th>\n",
       "      <td id=\"T_666fd_row0_col0\" class=\"data row0 col0\" >0.000000</td>\n",
       "      <td id=\"T_666fd_row0_col1\" class=\"data row0 col1\" >0.000000</td>\n",
       "      <td id=\"T_666fd_row0_col2\" class=\"data row0 col2\" >4.098558</td>\n",
       "      <td id=\"T_666fd_row0_col3\" class=\"data row0 col3\" >0.000000</td>\n",
       "      <td id=\"T_666fd_row0_col4\" class=\"data row0 col4\" >46.655431</td>\n",
       "      <td id=\"T_666fd_row0_col5\" class=\"data row0 col5\" >84.714064</td>\n",
       "      <td id=\"T_666fd_row0_col6\" class=\"data row0 col6\" >0.000044</td>\n",
       "    </tr>\n",
       "  </tbody>\n",
       "</table>\n"
      ],
      "text/plain": [
       "<pandas.io.formats.style.Styler at 0x21e8de16250>"
      ]
     },
     "execution_count": 12,
     "metadata": {},
     "output_type": "execute_result"
    }
   ],
   "source": [
    "show_missing_percent(songs_df)"
   ]
  },
  {
   "cell_type": "code",
   "execution_count": 35,
   "metadata": {},
   "outputs": [],
   "source": [
    "# заполняем числовые данные\n",
    "songs_df['song_length'] = songs_df['song_length'].astype(float)\n",
    "songs_df['language'] = songs_df['language'].astype(float)\n",
    "\n",
    "songs_df['song_length'] = songs_df['song_length'].fillna(songs_df['song_length'].mean(),inplace=False)\n",
    "songs_df['language'] = songs_df['language'].fillna(songs_df['language'].mean(), inplace=False)\n",
    "\n",
    "songs_df['song_length'] = songs_df['song_length'].astype(np.int32)\n",
    "songs_df['language'] = songs_df['language'].astype(np.float16)"
   ]
  },
  {
   "cell_type": "code",
   "execution_count": 7,
   "metadata": {},
   "outputs": [],
   "source": [
    "def count_genre_ids(genre):\n",
    "    if genre == 'unknown':\n",
    "        return 0\n",
    "    else:\n",
    "        return genre.count('|') + 1\n",
    "\n",
    "def count_content(col):\n",
    "    if col == 'unknown':\n",
    "        return 0 \n",
    "    return col.count('|') + col.count(\"\\\\\") + col.count(\"/\") + col.count(\";\") + 1\n",
    "\n",
    "def fill_and_count(df: pd.DataFrame, column_name: str):\n",
    "    if df[column_name].dtype == 'category':\n",
    "        df[column_name] = df[column_name].astype('object') \n",
    "    df[column_name] = df[column_name].fillna('unknown')\n",
    "    df[column_name+'_count'] = df[column_name].apply(func=count_content).astype(np.uint8)\n",
    "    return df"
   ]
  },
  {
   "cell_type": "code",
   "execution_count": 40,
   "metadata": {},
   "outputs": [
    {
     "data": {
      "text/html": [
       "<div>\n",
       "<style scoped>\n",
       "    .dataframe tbody tr th:only-of-type {\n",
       "        vertical-align: middle;\n",
       "    }\n",
       "\n",
       "    .dataframe tbody tr th {\n",
       "        vertical-align: top;\n",
       "    }\n",
       "\n",
       "    .dataframe thead th {\n",
       "        text-align: right;\n",
       "    }\n",
       "</style>\n",
       "<table border=\"1\" class=\"dataframe\">\n",
       "  <thead>\n",
       "    <tr style=\"text-align: right;\">\n",
       "      <th></th>\n",
       "      <th>song_id</th>\n",
       "      <th>song_length</th>\n",
       "      <th>genre_ids</th>\n",
       "      <th>artist_name</th>\n",
       "      <th>composer</th>\n",
       "      <th>lyricist</th>\n",
       "      <th>language</th>\n",
       "      <th>genre_ids_count</th>\n",
       "      <th>composer_count</th>\n",
       "      <th>artist_name_count</th>\n",
       "    </tr>\n",
       "  </thead>\n",
       "  <tbody>\n",
       "    <tr>\n",
       "      <th>0</th>\n",
       "      <td>CXoTN1eb7AI+DntdU1vbcwGRV4SCIDxZu+YD8JP8r4E=</td>\n",
       "      <td>247640</td>\n",
       "      <td>465</td>\n",
       "      <td>張信哲 (Jeff Chang)</td>\n",
       "      <td>董貞</td>\n",
       "      <td>何啟弘</td>\n",
       "      <td>3.0</td>\n",
       "      <td>1</td>\n",
       "      <td>1</td>\n",
       "      <td>1</td>\n",
       "    </tr>\n",
       "    <tr>\n",
       "      <th>1</th>\n",
       "      <td>o0kFgae9QtnYgRkVPqLJwa05zIhRlUjfF7O1tDw0ZDU=</td>\n",
       "      <td>197328</td>\n",
       "      <td>444</td>\n",
       "      <td>BLACKPINK</td>\n",
       "      <td>TEDDY|  FUTURE BOUNCE|  Bekuh BOOM</td>\n",
       "      <td>TEDDY</td>\n",
       "      <td>31.0</td>\n",
       "      <td>1</td>\n",
       "      <td>3</td>\n",
       "      <td>1</td>\n",
       "    </tr>\n",
       "    <tr>\n",
       "      <th>2</th>\n",
       "      <td>DwVvVurfpuz+XPuFvucclVQEyPqcpUkHR0ne1RQzPs0=</td>\n",
       "      <td>231781</td>\n",
       "      <td>465</td>\n",
       "      <td>SUPER JUNIOR</td>\n",
       "      <td>unknown</td>\n",
       "      <td>NaN</td>\n",
       "      <td>31.0</td>\n",
       "      <td>1</td>\n",
       "      <td>0</td>\n",
       "      <td>1</td>\n",
       "    </tr>\n",
       "    <tr>\n",
       "      <th>3</th>\n",
       "      <td>dKMBWoZyScdxSkihKG+Vf47nc18N9q4m58+b4e7dSSE=</td>\n",
       "      <td>273554</td>\n",
       "      <td>465</td>\n",
       "      <td>S.H.E</td>\n",
       "      <td>湯小康</td>\n",
       "      <td>徐世珍</td>\n",
       "      <td>3.0</td>\n",
       "      <td>1</td>\n",
       "      <td>1</td>\n",
       "      <td>1</td>\n",
       "    </tr>\n",
       "    <tr>\n",
       "      <th>4</th>\n",
       "      <td>W3bqWd3T+VeHFzHAUfARgW9AvVRaF4N5Yzm4Mr6Eo/o=</td>\n",
       "      <td>140329</td>\n",
       "      <td>726</td>\n",
       "      <td>貴族精選</td>\n",
       "      <td>Traditional</td>\n",
       "      <td>Traditional</td>\n",
       "      <td>52.0</td>\n",
       "      <td>1</td>\n",
       "      <td>1</td>\n",
       "      <td>1</td>\n",
       "    </tr>\n",
       "  </tbody>\n",
       "</table>\n",
       "</div>"
      ],
      "text/plain": [
       "                                        song_id  song_length genre_ids  \\\n",
       "0  CXoTN1eb7AI+DntdU1vbcwGRV4SCIDxZu+YD8JP8r4E=       247640       465   \n",
       "1  o0kFgae9QtnYgRkVPqLJwa05zIhRlUjfF7O1tDw0ZDU=       197328       444   \n",
       "2  DwVvVurfpuz+XPuFvucclVQEyPqcpUkHR0ne1RQzPs0=       231781       465   \n",
       "3  dKMBWoZyScdxSkihKG+Vf47nc18N9q4m58+b4e7dSSE=       273554       465   \n",
       "4  W3bqWd3T+VeHFzHAUfARgW9AvVRaF4N5Yzm4Mr6Eo/o=       140329       726   \n",
       "\n",
       "        artist_name                            composer     lyricist  \\\n",
       "0  張信哲 (Jeff Chang)                                  董貞          何啟弘   \n",
       "1         BLACKPINK  TEDDY|  FUTURE BOUNCE|  Bekuh BOOM        TEDDY   \n",
       "2      SUPER JUNIOR                             unknown          NaN   \n",
       "3             S.H.E                                 湯小康          徐世珍   \n",
       "4              貴族精選                         Traditional  Traditional   \n",
       "\n",
       "   language  genre_ids_count  composer_count  artist_name_count  \n",
       "0       3.0                1               1                  1  \n",
       "1      31.0                1               3                  1  \n",
       "2      31.0                1               0                  1  \n",
       "3       3.0                1               1                  1  \n",
       "4      52.0                1               1                  1  "
      ]
     },
     "execution_count": 40,
     "metadata": {},
     "output_type": "execute_result"
    }
   ],
   "source": [
    "for col in ['genre_ids', 'composer', 'artist_name']:\n",
    "    songs_df = fill_and_count(songs_df, col)\n",
    "songs_df.head()"
   ]
  },
  {
   "cell_type": "code",
   "execution_count": 8,
   "metadata": {},
   "outputs": [],
   "source": [
    "def preprocess_songs(songs_df_):\n",
    "    \"\"\"Предобработка песен без удаления информации о жанрах\"\"\"\n",
    "    # заполняем числовые данные\n",
    "    songs_df_['song_length'] = songs_df_['song_length'].astype(float)\n",
    "    songs_df_['language'] = songs_df_['language'].astype(float)\n",
    "\n",
    "    songs_df_['song_length'] = songs_df_['song_length'].fillna(songs_df_['song_length'].mean(),inplace=False)\n",
    "    songs_df_['language'] = songs_df_['language'].fillna(songs_df_['language'].mean(), inplace=False)\n",
    "\n",
    "    songs_df_['song_length'] = songs_df_['song_length'].astype(np.int32)\n",
    "    songs_df_['language'] = songs_df_['language'].astype(np.float16)\n",
    "\n",
    "    for col in ['genre_ids', 'composer', 'artist_name']:\n",
    "        songs_df_ = fill_and_count(songs_df_, col)\n",
    "    \n",
    "    songs_df_.drop(columns=['lyricist', 'artist_name', 'composer'], inplace=True)\n",
    "    return songs_df_\n",
    "songs_df = preprocess_songs(songs_df) "
   ]
  },
  {
   "cell_type": "code",
   "execution_count": 9,
   "metadata": {},
   "outputs": [
    {
     "data": {
      "text/html": [
       "<style type=\"text/css\">\n",
       "</style>\n",
       "<table id=\"T_5add5\">\n",
       "  <thead>\n",
       "    <tr>\n",
       "      <th class=\"blank level0\" >&nbsp;</th>\n",
       "      <th id=\"T_5add5_level0_col0\" class=\"col_heading level0 col0\" >song_id</th>\n",
       "      <th id=\"T_5add5_level0_col1\" class=\"col_heading level0 col1\" >song_length</th>\n",
       "      <th id=\"T_5add5_level0_col2\" class=\"col_heading level0 col2\" >genre_ids</th>\n",
       "      <th id=\"T_5add5_level0_col3\" class=\"col_heading level0 col3\" >language</th>\n",
       "      <th id=\"T_5add5_level0_col4\" class=\"col_heading level0 col4\" >genre_ids_count</th>\n",
       "      <th id=\"T_5add5_level0_col5\" class=\"col_heading level0 col5\" >composer_count</th>\n",
       "      <th id=\"T_5add5_level0_col6\" class=\"col_heading level0 col6\" >artist_name_count</th>\n",
       "    </tr>\n",
       "  </thead>\n",
       "  <tbody>\n",
       "    <tr>\n",
       "      <th id=\"T_5add5_level0_row0\" class=\"row_heading level0 row0\" >Процент пропусков</th>\n",
       "      <td id=\"T_5add5_row0_col0\" class=\"data row0 col0\" >0.000000</td>\n",
       "      <td id=\"T_5add5_row0_col1\" class=\"data row0 col1\" >0.000000</td>\n",
       "      <td id=\"T_5add5_row0_col2\" class=\"data row0 col2\" >0.000000</td>\n",
       "      <td id=\"T_5add5_row0_col3\" class=\"data row0 col3\" >0.000000</td>\n",
       "      <td id=\"T_5add5_row0_col4\" class=\"data row0 col4\" >0.000000</td>\n",
       "      <td id=\"T_5add5_row0_col5\" class=\"data row0 col5\" >0.000000</td>\n",
       "      <td id=\"T_5add5_row0_col6\" class=\"data row0 col6\" >0.000000</td>\n",
       "    </tr>\n",
       "  </tbody>\n",
       "</table>\n"
      ],
      "text/plain": [
       "<pandas.io.formats.style.Styler at 0x222752cc410>"
      ]
     },
     "execution_count": 9,
     "metadata": {},
     "output_type": "execute_result"
    }
   ],
   "source": [
    "show_missing_percent(songs_df)"
   ]
  },
  {
   "cell_type": "code",
   "execution_count": 16,
   "metadata": {},
   "outputs": [],
   "source": [
    "songs_df.drop(columns=['lyricist', 'artist_name', 'composer'], inplace=True)\n"
   ]
  },
  {
   "cell_type": "code",
   "execution_count": 10,
   "metadata": {},
   "outputs": [],
   "source": [
    "# пока что удалим genre_ids\n",
    "songs_df.drop(columns=['genre_ids'], inplace=True)"
   ]
  },
  {
   "cell_type": "code",
   "execution_count": 14,
   "metadata": {},
   "outputs": [
    {
     "data": {
      "text/html": [
       "<div>\n",
       "<style scoped>\n",
       "    .dataframe tbody tr th:only-of-type {\n",
       "        vertical-align: middle;\n",
       "    }\n",
       "\n",
       "    .dataframe tbody tr th {\n",
       "        vertical-align: top;\n",
       "    }\n",
       "\n",
       "    .dataframe thead th {\n",
       "        text-align: right;\n",
       "    }\n",
       "</style>\n",
       "<table border=\"1\" class=\"dataframe\">\n",
       "  <thead>\n",
       "    <tr style=\"text-align: right;\">\n",
       "      <th></th>\n",
       "      <th>song_id</th>\n",
       "      <th>song_length</th>\n",
       "      <th>language</th>\n",
       "      <th>genre_ids_count</th>\n",
       "      <th>composer_count</th>\n",
       "      <th>artist_name_count</th>\n",
       "    </tr>\n",
       "  </thead>\n",
       "  <tbody>\n",
       "    <tr>\n",
       "      <th>0</th>\n",
       "      <td>CXoTN1eb7AI+DntdU1vbcwGRV4SCIDxZu+YD8JP8r4E=</td>\n",
       "      <td>247640</td>\n",
       "      <td>3.0</td>\n",
       "      <td>1</td>\n",
       "      <td>1</td>\n",
       "      <td>1</td>\n",
       "    </tr>\n",
       "    <tr>\n",
       "      <th>1</th>\n",
       "      <td>o0kFgae9QtnYgRkVPqLJwa05zIhRlUjfF7O1tDw0ZDU=</td>\n",
       "      <td>197328</td>\n",
       "      <td>31.0</td>\n",
       "      <td>1</td>\n",
       "      <td>3</td>\n",
       "      <td>1</td>\n",
       "    </tr>\n",
       "    <tr>\n",
       "      <th>2</th>\n",
       "      <td>DwVvVurfpuz+XPuFvucclVQEyPqcpUkHR0ne1RQzPs0=</td>\n",
       "      <td>231781</td>\n",
       "      <td>31.0</td>\n",
       "      <td>1</td>\n",
       "      <td>0</td>\n",
       "      <td>1</td>\n",
       "    </tr>\n",
       "    <tr>\n",
       "      <th>3</th>\n",
       "      <td>dKMBWoZyScdxSkihKG+Vf47nc18N9q4m58+b4e7dSSE=</td>\n",
       "      <td>273554</td>\n",
       "      <td>3.0</td>\n",
       "      <td>1</td>\n",
       "      <td>1</td>\n",
       "      <td>1</td>\n",
       "    </tr>\n",
       "    <tr>\n",
       "      <th>4</th>\n",
       "      <td>W3bqWd3T+VeHFzHAUfARgW9AvVRaF4N5Yzm4Mr6Eo/o=</td>\n",
       "      <td>140329</td>\n",
       "      <td>52.0</td>\n",
       "      <td>1</td>\n",
       "      <td>1</td>\n",
       "      <td>1</td>\n",
       "    </tr>\n",
       "  </tbody>\n",
       "</table>\n",
       "</div>"
      ],
      "text/plain": [
       "                                        song_id  song_length  language  \\\n",
       "0  CXoTN1eb7AI+DntdU1vbcwGRV4SCIDxZu+YD8JP8r4E=       247640       3.0   \n",
       "1  o0kFgae9QtnYgRkVPqLJwa05zIhRlUjfF7O1tDw0ZDU=       197328      31.0   \n",
       "2  DwVvVurfpuz+XPuFvucclVQEyPqcpUkHR0ne1RQzPs0=       231781      31.0   \n",
       "3  dKMBWoZyScdxSkihKG+Vf47nc18N9q4m58+b4e7dSSE=       273554       3.0   \n",
       "4  W3bqWd3T+VeHFzHAUfARgW9AvVRaF4N5Yzm4Mr6Eo/o=       140329      52.0   \n",
       "\n",
       "   genre_ids_count  composer_count  artist_name_count  \n",
       "0                1               1                  1  \n",
       "1                1               3                  1  \n",
       "2                1               0                  1  \n",
       "3                1               1                  1  \n",
       "4                1               1                  1  "
      ]
     },
     "execution_count": 14,
     "metadata": {},
     "output_type": "execute_result"
    }
   ],
   "source": [
    "songs_df.head()"
   ]
  },
  {
   "cell_type": "markdown",
   "metadata": {},
   "source": [
    "### Songs extra info"
   ]
  },
  {
   "cell_type": "code",
   "execution_count": 34,
   "metadata": {},
   "outputs": [
    {
     "data": {
      "text/html": [
       "<div>\n",
       "<style scoped>\n",
       "    .dataframe tbody tr th:only-of-type {\n",
       "        vertical-align: middle;\n",
       "    }\n",
       "\n",
       "    .dataframe tbody tr th {\n",
       "        vertical-align: top;\n",
       "    }\n",
       "\n",
       "    .dataframe thead th {\n",
       "        text-align: right;\n",
       "    }\n",
       "</style>\n",
       "<table border=\"1\" class=\"dataframe\">\n",
       "  <thead>\n",
       "    <tr style=\"text-align: right;\">\n",
       "      <th></th>\n",
       "      <th>song_id</th>\n",
       "      <th>name</th>\n",
       "      <th>isrc</th>\n",
       "    </tr>\n",
       "  </thead>\n",
       "  <tbody>\n",
       "    <tr>\n",
       "      <th>0</th>\n",
       "      <td>LP7pLJoJFBvyuUwvu+oLzjT+bI+UeBPURCecJsX1jjs=</td>\n",
       "      <td>我們</td>\n",
       "      <td>TWUM71200043</td>\n",
       "    </tr>\n",
       "    <tr>\n",
       "      <th>1</th>\n",
       "      <td>ClazTFnk6r0Bnuie44bocdNMM3rdlrq0bCGAsGUWcHE=</td>\n",
       "      <td>Let Me Love You</td>\n",
       "      <td>QMZSY1600015</td>\n",
       "    </tr>\n",
       "    <tr>\n",
       "      <th>2</th>\n",
       "      <td>u2ja/bZE3zhCGxvbbOB3zOoUjx27u40cf5g09UXMoKQ=</td>\n",
       "      <td>原諒我</td>\n",
       "      <td>TWA530887303</td>\n",
       "    </tr>\n",
       "    <tr>\n",
       "      <th>3</th>\n",
       "      <td>92Fqsy0+p6+RHe2EoLKjHahORHR1Kq1TBJoClW9v+Ts=</td>\n",
       "      <td>Classic</td>\n",
       "      <td>USSM11301446</td>\n",
       "    </tr>\n",
       "    <tr>\n",
       "      <th>4</th>\n",
       "      <td>0QFmz/+rJy1Q56C1DuYqT9hKKqi5TUqx0sN0IwvoHrw=</td>\n",
       "      <td>愛投羅網</td>\n",
       "      <td>TWA471306001</td>\n",
       "    </tr>\n",
       "  </tbody>\n",
       "</table>\n",
       "</div>"
      ],
      "text/plain": [
       "                                        song_id             name          isrc\n",
       "0  LP7pLJoJFBvyuUwvu+oLzjT+bI+UeBPURCecJsX1jjs=               我們  TWUM71200043\n",
       "1  ClazTFnk6r0Bnuie44bocdNMM3rdlrq0bCGAsGUWcHE=  Let Me Love You  QMZSY1600015\n",
       "2  u2ja/bZE3zhCGxvbbOB3zOoUjx27u40cf5g09UXMoKQ=              原諒我  TWA530887303\n",
       "3  92Fqsy0+p6+RHe2EoLKjHahORHR1Kq1TBJoClW9v+Ts=          Classic  USSM11301446\n",
       "4  0QFmz/+rJy1Q56C1DuYqT9hKKqi5TUqx0sN0IwvoHrw=             愛投羅網  TWA471306001"
      ]
     },
     "execution_count": 34,
     "metadata": {},
     "output_type": "execute_result"
    }
   ],
   "source": [
    "songs_ei_df.head()"
   ]
  },
  {
   "cell_type": "markdown",
   "metadata": {},
   "source": [
    "### Обрабатываем train data"
   ]
  },
  {
   "cell_type": "code",
   "execution_count": 11,
   "metadata": {},
   "outputs": [
    {
     "name": "stdout",
     "output_type": "stream",
     "text": [
      "<class 'pandas.core.frame.DataFrame'>\n",
      "RangeIndex: 7377418 entries, 0 to 7377417\n",
      "Data columns (total 6 columns):\n",
      " #   Column              Dtype \n",
      "---  ------              ----- \n",
      " 0   msno                object\n",
      " 1   song_id             object\n",
      " 2   source_system_tab   object\n",
      " 3   source_screen_name  object\n",
      " 4   source_type         object\n",
      " 5   target              int8  \n",
      "dtypes: int8(1), object(5)\n",
      "memory usage: 288.5+ MB\n"
     ]
    }
   ],
   "source": [
    "train_df.info()"
   ]
  },
  {
   "cell_type": "code",
   "execution_count": 12,
   "metadata": {},
   "outputs": [
    {
     "data": {
      "text/html": [
       "<style type=\"text/css\">\n",
       "#T_f37ba_row0_col3 {\n",
       "  background-color: steelblue;\n",
       "}\n",
       "</style>\n",
       "<table id=\"T_f37ba\">\n",
       "  <thead>\n",
       "    <tr>\n",
       "      <th class=\"blank level0\" >&nbsp;</th>\n",
       "      <th id=\"T_f37ba_level0_col0\" class=\"col_heading level0 col0\" >msno</th>\n",
       "      <th id=\"T_f37ba_level0_col1\" class=\"col_heading level0 col1\" >song_id</th>\n",
       "      <th id=\"T_f37ba_level0_col2\" class=\"col_heading level0 col2\" >source_system_tab</th>\n",
       "      <th id=\"T_f37ba_level0_col3\" class=\"col_heading level0 col3\" >source_screen_name</th>\n",
       "      <th id=\"T_f37ba_level0_col4\" class=\"col_heading level0 col4\" >source_type</th>\n",
       "      <th id=\"T_f37ba_level0_col5\" class=\"col_heading level0 col5\" >target</th>\n",
       "    </tr>\n",
       "  </thead>\n",
       "  <tbody>\n",
       "    <tr>\n",
       "      <th id=\"T_f37ba_level0_row0\" class=\"row_heading level0 row0\" >Процент пропусков</th>\n",
       "      <td id=\"T_f37ba_row0_col0\" class=\"data row0 col0\" >0.000000</td>\n",
       "      <td id=\"T_f37ba_row0_col1\" class=\"data row0 col1\" >0.000000</td>\n",
       "      <td id=\"T_f37ba_row0_col2\" class=\"data row0 col2\" >0.336825</td>\n",
       "      <td id=\"T_f37ba_row0_col3\" class=\"data row0 col3\" >5.622618</td>\n",
       "      <td id=\"T_f37ba_row0_col4\" class=\"data row0 col4\" >0.291959</td>\n",
       "      <td id=\"T_f37ba_row0_col5\" class=\"data row0 col5\" >0.000000</td>\n",
       "    </tr>\n",
       "  </tbody>\n",
       "</table>\n"
      ],
      "text/plain": [
       "<pandas.io.formats.style.Styler at 0x22275caf610>"
      ]
     },
     "execution_count": 12,
     "metadata": {},
     "output_type": "execute_result"
    }
   ],
   "source": [
    "show_missing_percent(train_df)"
   ]
  },
  {
   "cell_type": "code",
   "execution_count": 13,
   "metadata": {},
   "outputs": [],
   "source": [
    "# кодируем категориальные признаки\n",
    "# заполним пропуски модой\n",
    "for col in ['source_system_tab', 'source_screen_name', 'source_type']:\n",
    "    train_df[col] = train_df[col].fillna(train_df[col].mode().values[0])\n",
    "    \n",
    "\n",
    "for col in ['source_system_tab', 'source_screen_name', 'source_type']:\n",
    "    lb = LabelEncoder()\n",
    "    lb.fit(list(train_df[col].values))\n",
    "    train_df[col] = lb.transform(list(train_df[col].values))"
   ]
  },
  {
   "cell_type": "code",
   "execution_count": 14,
   "metadata": {},
   "outputs": [
    {
     "data": {
      "text/html": [
       "<div>\n",
       "<style scoped>\n",
       "    .dataframe tbody tr th:only-of-type {\n",
       "        vertical-align: middle;\n",
       "    }\n",
       "\n",
       "    .dataframe tbody tr th {\n",
       "        vertical-align: top;\n",
       "    }\n",
       "\n",
       "    .dataframe thead th {\n",
       "        text-align: right;\n",
       "    }\n",
       "</style>\n",
       "<table border=\"1\" class=\"dataframe\">\n",
       "  <thead>\n",
       "    <tr style=\"text-align: right;\">\n",
       "      <th></th>\n",
       "      <th>msno</th>\n",
       "      <th>song_id</th>\n",
       "      <th>source_system_tab</th>\n",
       "      <th>source_screen_name</th>\n",
       "      <th>source_type</th>\n",
       "      <th>target</th>\n",
       "    </tr>\n",
       "  </thead>\n",
       "  <tbody>\n",
       "    <tr>\n",
       "      <th>0</th>\n",
       "      <td>FGtllVqz18RPiwJj/edr2gV78zirAiY/9SmYvia+kCg=</td>\n",
       "      <td>BBzumQNXUHKdEBOB7mAJuzok+IJA1c2Ryg/yzTF6tik=</td>\n",
       "      <td>1</td>\n",
       "      <td>7</td>\n",
       "      <td>6</td>\n",
       "      <td>1</td>\n",
       "    </tr>\n",
       "    <tr>\n",
       "      <th>1</th>\n",
       "      <td>Xumu+NIjS6QYVxDS4/t3SawvJ7viT9hPKXmf0RtLNx8=</td>\n",
       "      <td>bhp/MpSNoqoxOIB+/l8WPqu6jldth4DIpCm3ayXnJqM=</td>\n",
       "      <td>3</td>\n",
       "      <td>8</td>\n",
       "      <td>4</td>\n",
       "      <td>1</td>\n",
       "    </tr>\n",
       "    <tr>\n",
       "      <th>2</th>\n",
       "      <td>Xumu+NIjS6QYVxDS4/t3SawvJ7viT9hPKXmf0RtLNx8=</td>\n",
       "      <td>JNWfrrC7zNN7BdMpsISKa4Mw+xVJYNnxXh3/Epw7QgY=</td>\n",
       "      <td>3</td>\n",
       "      <td>8</td>\n",
       "      <td>4</td>\n",
       "      <td>1</td>\n",
       "    </tr>\n",
       "    <tr>\n",
       "      <th>3</th>\n",
       "      <td>Xumu+NIjS6QYVxDS4/t3SawvJ7viT9hPKXmf0RtLNx8=</td>\n",
       "      <td>2A87tzfnJTSWqD7gIZHisolhe4DMdzkbd6LzO1KHjNs=</td>\n",
       "      <td>3</td>\n",
       "      <td>8</td>\n",
       "      <td>4</td>\n",
       "      <td>1</td>\n",
       "    </tr>\n",
       "    <tr>\n",
       "      <th>4</th>\n",
       "      <td>FGtllVqz18RPiwJj/edr2gV78zirAiY/9SmYvia+kCg=</td>\n",
       "      <td>3qm6XTZ6MOCU11x8FIVbAGH5l5uMkT3/ZalWG1oo2Gc=</td>\n",
       "      <td>1</td>\n",
       "      <td>7</td>\n",
       "      <td>6</td>\n",
       "      <td>1</td>\n",
       "    </tr>\n",
       "  </tbody>\n",
       "</table>\n",
       "</div>"
      ],
      "text/plain": [
       "                                           msno  \\\n",
       "0  FGtllVqz18RPiwJj/edr2gV78zirAiY/9SmYvia+kCg=   \n",
       "1  Xumu+NIjS6QYVxDS4/t3SawvJ7viT9hPKXmf0RtLNx8=   \n",
       "2  Xumu+NIjS6QYVxDS4/t3SawvJ7viT9hPKXmf0RtLNx8=   \n",
       "3  Xumu+NIjS6QYVxDS4/t3SawvJ7viT9hPKXmf0RtLNx8=   \n",
       "4  FGtllVqz18RPiwJj/edr2gV78zirAiY/9SmYvia+kCg=   \n",
       "\n",
       "                                        song_id  source_system_tab  \\\n",
       "0  BBzumQNXUHKdEBOB7mAJuzok+IJA1c2Ryg/yzTF6tik=                  1   \n",
       "1  bhp/MpSNoqoxOIB+/l8WPqu6jldth4DIpCm3ayXnJqM=                  3   \n",
       "2  JNWfrrC7zNN7BdMpsISKa4Mw+xVJYNnxXh3/Epw7QgY=                  3   \n",
       "3  2A87tzfnJTSWqD7gIZHisolhe4DMdzkbd6LzO1KHjNs=                  3   \n",
       "4  3qm6XTZ6MOCU11x8FIVbAGH5l5uMkT3/ZalWG1oo2Gc=                  1   \n",
       "\n",
       "   source_screen_name  source_type  target  \n",
       "0                   7            6       1  \n",
       "1                   8            4       1  \n",
       "2                   8            4       1  \n",
       "3                   8            4       1  \n",
       "4                   7            6       1  "
      ]
     },
     "execution_count": 14,
     "metadata": {},
     "output_type": "execute_result"
    }
   ],
   "source": [
    "train_df.head()"
   ]
  },
  {
   "cell_type": "markdown",
   "metadata": {},
   "source": [
    "### Мерджим данные"
   ]
  },
  {
   "cell_type": "code",
   "execution_count": null,
   "metadata": {},
   "outputs": [],
   "source": [
    "# # мерджим все данные и удаляем столбики с айди\n",
    "train_df = pd.merge(train_df, songs_df, how='left', on='song_id')\n",
    "train_df = pd.merge(train_df, members_df, how='left', on='msno')\n",
    "train_df.drop(columns=['msno', 'song_id'], inplace=True)\n",
    "\n",
    "del(songs_df)\n",
    "del(members_df)"
   ]
  },
  {
   "cell_type": "code",
   "execution_count": 16,
   "metadata": {},
   "outputs": [
    {
     "data": {
      "text/html": [
       "<div>\n",
       "<style scoped>\n",
       "    .dataframe tbody tr th:only-of-type {\n",
       "        vertical-align: middle;\n",
       "    }\n",
       "\n",
       "    .dataframe tbody tr th {\n",
       "        vertical-align: top;\n",
       "    }\n",
       "\n",
       "    .dataframe thead th {\n",
       "        text-align: right;\n",
       "    }\n",
       "</style>\n",
       "<table border=\"1\" class=\"dataframe\">\n",
       "  <thead>\n",
       "    <tr style=\"text-align: right;\">\n",
       "      <th></th>\n",
       "      <th>source_system_tab</th>\n",
       "      <th>source_screen_name</th>\n",
       "      <th>source_type</th>\n",
       "      <th>target</th>\n",
       "      <th>song_length</th>\n",
       "      <th>language</th>\n",
       "      <th>genre_ids_count</th>\n",
       "      <th>composer_count</th>\n",
       "      <th>artist_name_count</th>\n",
       "      <th>city</th>\n",
       "      <th>bd</th>\n",
       "      <th>registered_via</th>\n",
       "      <th>registration_init_time_year</th>\n",
       "      <th>period_of_membership</th>\n",
       "      <th>expiration_date_year</th>\n",
       "    </tr>\n",
       "  </thead>\n",
       "  <tbody>\n",
       "    <tr>\n",
       "      <th>0</th>\n",
       "      <td>1</td>\n",
       "      <td>7</td>\n",
       "      <td>6</td>\n",
       "      <td>1</td>\n",
       "      <td>206471.0</td>\n",
       "      <td>52.0</td>\n",
       "      <td>1.0</td>\n",
       "      <td>2.0</td>\n",
       "      <td>1.0</td>\n",
       "      <td>1</td>\n",
       "      <td>0</td>\n",
       "      <td>7</td>\n",
       "      <td>2012</td>\n",
       "      <td>2103</td>\n",
       "      <td>2017</td>\n",
       "    </tr>\n",
       "    <tr>\n",
       "      <th>1</th>\n",
       "      <td>3</td>\n",
       "      <td>8</td>\n",
       "      <td>4</td>\n",
       "      <td>1</td>\n",
       "      <td>284584.0</td>\n",
       "      <td>52.0</td>\n",
       "      <td>1.0</td>\n",
       "      <td>0.0</td>\n",
       "      <td>1.0</td>\n",
       "      <td>13</td>\n",
       "      <td>24</td>\n",
       "      <td>9</td>\n",
       "      <td>2011</td>\n",
       "      <td>2301</td>\n",
       "      <td>2017</td>\n",
       "    </tr>\n",
       "    <tr>\n",
       "      <th>2</th>\n",
       "      <td>3</td>\n",
       "      <td>8</td>\n",
       "      <td>4</td>\n",
       "      <td>1</td>\n",
       "      <td>225396.0</td>\n",
       "      <td>52.0</td>\n",
       "      <td>1.0</td>\n",
       "      <td>1.0</td>\n",
       "      <td>1.0</td>\n",
       "      <td>13</td>\n",
       "      <td>24</td>\n",
       "      <td>9</td>\n",
       "      <td>2011</td>\n",
       "      <td>2301</td>\n",
       "      <td>2017</td>\n",
       "    </tr>\n",
       "    <tr>\n",
       "      <th>3</th>\n",
       "      <td>3</td>\n",
       "      <td>8</td>\n",
       "      <td>4</td>\n",
       "      <td>1</td>\n",
       "      <td>255512.0</td>\n",
       "      <td>-1.0</td>\n",
       "      <td>1.0</td>\n",
       "      <td>1.0</td>\n",
       "      <td>1.0</td>\n",
       "      <td>13</td>\n",
       "      <td>24</td>\n",
       "      <td>9</td>\n",
       "      <td>2011</td>\n",
       "      <td>2301</td>\n",
       "      <td>2017</td>\n",
       "    </tr>\n",
       "    <tr>\n",
       "      <th>4</th>\n",
       "      <td>1</td>\n",
       "      <td>7</td>\n",
       "      <td>6</td>\n",
       "      <td>1</td>\n",
       "      <td>187802.0</td>\n",
       "      <td>52.0</td>\n",
       "      <td>1.0</td>\n",
       "      <td>3.0</td>\n",
       "      <td>1.0</td>\n",
       "      <td>1</td>\n",
       "      <td>0</td>\n",
       "      <td>7</td>\n",
       "      <td>2012</td>\n",
       "      <td>2103</td>\n",
       "      <td>2017</td>\n",
       "    </tr>\n",
       "  </tbody>\n",
       "</table>\n",
       "</div>"
      ],
      "text/plain": [
       "   source_system_tab  source_screen_name  source_type  target  song_length  \\\n",
       "0                  1                   7            6       1     206471.0   \n",
       "1                  3                   8            4       1     284584.0   \n",
       "2                  3                   8            4       1     225396.0   \n",
       "3                  3                   8            4       1     255512.0   \n",
       "4                  1                   7            6       1     187802.0   \n",
       "\n",
       "   language  genre_ids_count  composer_count  artist_name_count  city  bd  \\\n",
       "0      52.0              1.0             2.0                1.0     1   0   \n",
       "1      52.0              1.0             0.0                1.0    13  24   \n",
       "2      52.0              1.0             1.0                1.0    13  24   \n",
       "3      -1.0              1.0             1.0                1.0    13  24   \n",
       "4      52.0              1.0             3.0                1.0     1   0   \n",
       "\n",
       "   registered_via  registration_init_time_year  period_of_membership  \\\n",
       "0               7                         2012                  2103   \n",
       "1               9                         2011                  2301   \n",
       "2               9                         2011                  2301   \n",
       "3               9                         2011                  2301   \n",
       "4               7                         2012                  2103   \n",
       "\n",
       "   expiration_date_year  \n",
       "0                  2017  \n",
       "1                  2017  \n",
       "2                  2017  \n",
       "3                  2017  \n",
       "4                  2017  "
      ]
     },
     "execution_count": 16,
     "metadata": {},
     "output_type": "execute_result"
    }
   ],
   "source": [
    "train_df.head()"
   ]
  },
  {
   "cell_type": "code",
   "execution_count": 17,
   "metadata": {},
   "outputs": [
    {
     "name": "stdout",
     "output_type": "stream",
     "text": [
      "<class 'pandas.core.frame.DataFrame'>\n",
      "RangeIndex: 7377418 entries, 0 to 7377417\n",
      "Data columns (total 15 columns):\n",
      " #   Column                       Dtype  \n",
      "---  ------                       -----  \n",
      " 0   source_system_tab            int32  \n",
      " 1   source_screen_name           int32  \n",
      " 2   source_type                  int32  \n",
      " 3   target                       int8   \n",
      " 4   song_length                  float64\n",
      " 5   language                     float16\n",
      " 6   genre_ids_count              float64\n",
      " 7   composer_count               float64\n",
      " 8   artist_name_count            float64\n",
      " 9   city                         int8   \n",
      " 10  bd                           int16  \n",
      " 11  registered_via               int8   \n",
      " 12  registration_init_time_year  int32  \n",
      " 13  period_of_membership         int32  \n",
      " 14  expiration_date_year         int32  \n",
      "dtypes: float16(1), float64(4), int16(1), int32(6), int8(3)\n",
      "memory usage: 443.2 MB\n"
     ]
    }
   ],
   "source": [
    "train_df.info()"
   ]
  },
  {
   "cell_type": "code",
   "execution_count": 20,
   "metadata": {},
   "outputs": [
    {
     "data": {
      "text/html": [
       "<style type=\"text/css\">\n",
       "</style>\n",
       "<table id=\"T_77da8\">\n",
       "  <thead>\n",
       "    <tr>\n",
       "      <th class=\"blank level0\" >&nbsp;</th>\n",
       "      <th id=\"T_77da8_level0_col0\" class=\"col_heading level0 col0\" >source_system_tab</th>\n",
       "      <th id=\"T_77da8_level0_col1\" class=\"col_heading level0 col1\" >source_screen_name</th>\n",
       "      <th id=\"T_77da8_level0_col2\" class=\"col_heading level0 col2\" >source_type</th>\n",
       "      <th id=\"T_77da8_level0_col3\" class=\"col_heading level0 col3\" >target</th>\n",
       "      <th id=\"T_77da8_level0_col4\" class=\"col_heading level0 col4\" >song_length</th>\n",
       "      <th id=\"T_77da8_level0_col5\" class=\"col_heading level0 col5\" >language</th>\n",
       "      <th id=\"T_77da8_level0_col6\" class=\"col_heading level0 col6\" >genre_ids_count</th>\n",
       "      <th id=\"T_77da8_level0_col7\" class=\"col_heading level0 col7\" >composer_count</th>\n",
       "      <th id=\"T_77da8_level0_col8\" class=\"col_heading level0 col8\" >artist_name_count</th>\n",
       "      <th id=\"T_77da8_level0_col9\" class=\"col_heading level0 col9\" >city</th>\n",
       "      <th id=\"T_77da8_level0_col10\" class=\"col_heading level0 col10\" >bd</th>\n",
       "      <th id=\"T_77da8_level0_col11\" class=\"col_heading level0 col11\" >registered_via</th>\n",
       "      <th id=\"T_77da8_level0_col12\" class=\"col_heading level0 col12\" >registration_init_time_year</th>\n",
       "      <th id=\"T_77da8_level0_col13\" class=\"col_heading level0 col13\" >period_of_membership</th>\n",
       "      <th id=\"T_77da8_level0_col14\" class=\"col_heading level0 col14\" >expiration_date_year</th>\n",
       "    </tr>\n",
       "  </thead>\n",
       "  <tbody>\n",
       "    <tr>\n",
       "      <th id=\"T_77da8_level0_row0\" class=\"row_heading level0 row0\" >Процент пропусков</th>\n",
       "      <td id=\"T_77da8_row0_col0\" class=\"data row0 col0\" >0.000000</td>\n",
       "      <td id=\"T_77da8_row0_col1\" class=\"data row0 col1\" >0.000000</td>\n",
       "      <td id=\"T_77da8_row0_col2\" class=\"data row0 col2\" >0.000000</td>\n",
       "      <td id=\"T_77da8_row0_col3\" class=\"data row0 col3\" >0.000000</td>\n",
       "      <td id=\"T_77da8_row0_col4\" class=\"data row0 col4\" >0.000000</td>\n",
       "      <td id=\"T_77da8_row0_col5\" class=\"data row0 col5\" >0.000000</td>\n",
       "      <td id=\"T_77da8_row0_col6\" class=\"data row0 col6\" >0.000000</td>\n",
       "      <td id=\"T_77da8_row0_col7\" class=\"data row0 col7\" >0.000000</td>\n",
       "      <td id=\"T_77da8_row0_col8\" class=\"data row0 col8\" >0.000000</td>\n",
       "      <td id=\"T_77da8_row0_col9\" class=\"data row0 col9\" >0.000000</td>\n",
       "      <td id=\"T_77da8_row0_col10\" class=\"data row0 col10\" >0.000000</td>\n",
       "      <td id=\"T_77da8_row0_col11\" class=\"data row0 col11\" >0.000000</td>\n",
       "      <td id=\"T_77da8_row0_col12\" class=\"data row0 col12\" >0.000000</td>\n",
       "      <td id=\"T_77da8_row0_col13\" class=\"data row0 col13\" >0.000000</td>\n",
       "      <td id=\"T_77da8_row0_col14\" class=\"data row0 col14\" >0.000000</td>\n",
       "    </tr>\n",
       "  </tbody>\n",
       "</table>\n"
      ],
      "text/plain": [
       "<pandas.io.formats.style.Styler at 0x22205ca1710>"
      ]
     },
     "execution_count": 20,
     "metadata": {},
     "output_type": "execute_result"
    }
   ],
   "source": [
    "show_missing_percent(train_df)"
   ]
  },
  {
   "cell_type": "code",
   "execution_count": 19,
   "metadata": {},
   "outputs": [],
   "source": [
    "# удалим несколько строчек, для которых не найдена песня\n",
    "train_df.dropna(inplace=True)"
   ]
  },
  {
   "cell_type": "markdown",
   "metadata": {},
   "source": [
    "## Обучение"
   ]
  },
  {
   "cell_type": "code",
   "execution_count": 22,
   "metadata": {},
   "outputs": [],
   "source": [
    "# готовим данные\n",
    "X_train = train_df.drop(columns=['target'])\n",
    "y_train = train_df['target']\n",
    "X_train = X_train.to_numpy()\n",
    "y_train = y_train.to_numpy()\n",
    "\n",
    "X_train, X_test, y_train, y_test = train_test_split(X_train, y_train, test_size=0.3, random_state=43)\n",
    "y_test_dummy = pd.get_dummies(y_test).values.astype(int)"
   ]
  },
  {
   "cell_type": "code",
   "execution_count": 23,
   "metadata": {},
   "outputs": [],
   "source": [
    "def train_and_test_model(model, parameters) -> float:\n",
    "    model.fit(**parameters)\n",
    "    print('Finished fitting\\nStarted prediction')\n",
    "    y_pred = model.predict(X_test)\n",
    "    y_pred = pd.get_dummies(y_pred).astype(int).values\n",
    "    score = ndcg_score(y_test_dummy, y_pred)\n",
    "    return score"
   ]
  },
  {
   "cell_type": "markdown",
   "metadata": {},
   "source": [
    "### Случайный лес"
   ]
  },
  {
   "cell_type": "code",
   "execution_count": 30,
   "metadata": {},
   "outputs": [],
   "source": [
    "from sklearn.ensemble import RandomForestClassifier"
   ]
  },
  {
   "cell_type": "code",
   "execution_count": 28,
   "metadata": {},
   "outputs": [],
   "source": [
    "X_train = train_df.drop(columns=['target'])\n",
    "X_train.to_numpy()\n",
    "y_train = train_df['target'].values"
   ]
  },
  {
   "cell_type": "code",
   "execution_count": 31,
   "metadata": {},
   "outputs": [],
   "source": [
    "rf = RandomForestClassifier()\n",
    "rf.fit(X_train, y_train)"
   ]
  },
  {
   "cell_type": "markdown",
   "metadata": {},
   "source": [
    "### Логистическая регрессия"
   ]
  },
  {
   "cell_type": "code",
   "execution_count": 79,
   "metadata": {},
   "outputs": [],
   "source": [
    "from sklearn.linear_model import LogisticRegression"
   ]
  },
  {
   "cell_type": "code",
   "execution_count": 80,
   "metadata": {},
   "outputs": [],
   "source": [
    "log_reg = LogisticRegression(penalty='l2', tol=1e-3, n_jobs=2)"
   ]
  },
  {
   "cell_type": "code",
   "execution_count": 84,
   "metadata": {},
   "outputs": [
    {
     "name": "stdout",
     "output_type": "stream",
     "text": [
      "Finished fitting\n",
      "Started prediction\n"
     ]
    },
    {
     "data": {
      "text/plain": [
       "0.8444671459282674"
      ]
     },
     "execution_count": 84,
     "metadata": {},
     "output_type": "execute_result"
    }
   ],
   "source": [
    "parameters_logreg = {\n",
    "    'X': X_train,\n",
    "    'y': y_train\n",
    "}\n",
    "log_reg_score = train_and_test_model(log_reg, parameters_logreg)\n",
    "log_reg_score"
   ]
  },
  {
   "cell_type": "markdown",
   "metadata": {},
   "source": [
    "### CatBoost"
   ]
  },
  {
   "cell_type": "code",
   "execution_count": 91,
   "metadata": {},
   "outputs": [],
   "source": [
    "import catboost as cb"
   ]
  },
  {
   "cell_type": "code",
   "execution_count": 97,
   "metadata": {},
   "outputs": [],
   "source": [
    "cb_model = cb.CatBoostClassifier(\n",
    "    loss_function='CrossEntropy',\n",
    "    n_estimators=250,\n",
    "    learning_rate=0.05,\n",
    "    max_depth=10,\n",
    ")"
   ]
  },
  {
   "cell_type": "code",
   "execution_count": 98,
   "metadata": {},
   "outputs": [
    {
     "name": "stdout",
     "output_type": "stream",
     "text": [
      "Finished fitting\n",
      "Started prediction\n"
     ]
    },
    {
     "data": {
      "text/plain": [
       "0.8669356207478021"
      ]
     },
     "execution_count": 98,
     "metadata": {},
     "output_type": "execute_result"
    }
   ],
   "source": [
    "parameters_cb = {\n",
    "    'X': X_train,\n",
    "    'y': y_train,\n",
    "    'early_stopping_rounds': 5,\n",
    "    'eval_set': [(X_test, y_test)],\n",
    "    'verbose' :False\n",
    "}\n",
    "cb_score = train_and_test_model(cb_model, parameters_cb) \n",
    "cb_score"
   ]
  },
  {
   "cell_type": "markdown",
   "metadata": {},
   "source": [
    "### XGBoost"
   ]
  },
  {
   "cell_type": "code",
   "execution_count": 45,
   "metadata": {},
   "outputs": [],
   "source": [
    "import xgboost as xgb"
   ]
  },
  {
   "cell_type": "code",
   "execution_count": 89,
   "metadata": {},
   "outputs": [],
   "source": [
    "xgb_model = xgb.XGBClassifier(\n",
    "    objective='binary:logistic', \n",
    "    n_estimators=250,\n",
    "    learning_rate=0.05,\n",
    "    colsample_bytree=0.70,\n",
    "    max_depth=10,\n",
    "    n_jobs=4\n",
    ")"
   ]
  },
  {
   "cell_type": "code",
   "execution_count": 90,
   "metadata": {},
   "outputs": [
    {
     "name": "stderr",
     "output_type": "stream",
     "text": [
      "c:\\Users\\lenovo\\Documents\\Work\\Поиск\\VK\\Test\\.venv\\Lib\\site-packages\\xgboost\\sklearn.py:889: UserWarning: `early_stopping_rounds` in `fit` method is deprecated for better compatibility with scikit-learn, use `early_stopping_rounds` in constructor or`set_params` instead.\n",
      "  warnings.warn(\n"
     ]
    },
    {
     "name": "stdout",
     "output_type": "stream",
     "text": [
      "Finished fitting\n",
      "Started prediction\n"
     ]
    },
    {
     "data": {
      "text/plain": [
       "0.8731065469345449"
      ]
     },
     "execution_count": 90,
     "metadata": {},
     "output_type": "execute_result"
    }
   ],
   "source": [
    "parameters_xgboost = {\n",
    "    'X': X_train,\n",
    "    'y': y_train,\n",
    "    'early_stopping_rounds': 5,\n",
    "    'eval_set': [(X_test, y_test)],\n",
    "    'verbose' :False\n",
    "}\n",
    "xgboost_score = train_and_test_model(xgb_model, parameters_xgboost) \n",
    "xgboost_score"
   ]
  },
  {
   "cell_type": "markdown",
   "metadata": {},
   "source": [
    "### Промежуточный вывод"
   ]
  },
  {
   "cell_type": "markdown",
   "metadata": {},
   "source": [
    "Лучше всех себя показал классификатор XGBoost. Далее будем использовать его. Здесь попробуем происпользовать оптимизацию гиперпараметров"
   ]
  },
  {
   "cell_type": "markdown",
   "metadata": {},
   "source": [
    "#### попробуем оптимизировать параметры"
   ]
  },
  {
   "cell_type": "code",
   "execution_count": null,
   "metadata": {},
   "outputs": [],
   "source": [
    "parameters_xgboost = {\n",
    "    'X': X_train,\n",
    "    'y': y_train,\n",
    "    'early_stopping_rounds': 5,\n",
    "    'eval_set': [(X_test, y_test)],\n",
    "    'verbose' :False\n",
    "}\n",
    "xgboost_score = train_and_test_model(xgb_model, parameters_xgboost) \n",
    "xgboost_score"
   ]
  },
  {
   "cell_type": "code",
   "execution_count": 122,
   "metadata": {},
   "outputs": [
    {
     "name": "stderr",
     "output_type": "stream",
     "text": [
      "[I 2024-04-30 14:18:45,886] A new study created in memory with name: xgboost_opt\n",
      "[I 2024-04-30 14:19:01,425] Trial 0 finished with value: 0.8376090915714413 and parameters: {'n_estimators': 984, 'learning_rate': 0.001783756848661729, 'max_depth': 15}. Best is trial 0 with value: 0.8376090915714413.\n",
      "[I 2024-04-30 14:19:02,055] Trial 1 finished with value: 0.85311004192144 and parameters: {'n_estimators': 286, 'learning_rate': 0.008480171411220884, 'max_depth': 4}. Best is trial 1 with value: 0.85311004192144.\n",
      "[I 2024-04-30 14:19:08,365] Trial 2 finished with value: 0.8412997940357266 and parameters: {'n_estimators': 965, 'learning_rate': 0.0013094771555968096, 'max_depth': 8}. Best is trial 1 with value: 0.85311004192144.\n",
      "[I 2024-04-30 14:19:23,245] Trial 3 finished with value: 0.8302276866428702 and parameters: {'n_estimators': 2546, 'learning_rate': 0.008970767515309857, 'max_depth': 13}. Best is trial 1 with value: 0.85311004192144.\n",
      "[I 2024-04-30 14:19:36,406] Trial 4 finished with value: 0.8424070047750123 and parameters: {'n_estimators': 1857, 'learning_rate': 0.0011156918130967577, 'max_depth': 9}. Best is trial 1 with value: 0.85311004192144.\n"
     ]
    },
    {
     "name": "stdout",
     "output_type": "stream",
     "text": [
      "elapsed time: 0.84 minutes:\n",
      "Best hyperparameters found: {'n_estimators': 286, 'learning_rate': 0.008480171411220884, 'max_depth': 4}\n",
      "Metric with best_params:  0.8619910421134808\n"
     ]
    }
   ],
   "source": [
    "import time\n",
    "import optuna\n",
    "from sklearn.metrics import roc_auc_score\n",
    "from sklearn.pipeline import Pipeline\n",
    "def custom_ndcg_score(y, y_pred):\n",
    "    y = pd.get_dummies(y).values.astype(int)\n",
    "    y_pred = pd.get_dummies(y_pred).values.astype(int)\n",
    "    score = ndcg_score(y, y_pred)\n",
    "    return score\n",
    "\n",
    "def objective(trial):\n",
    "    # Define hyperparameters to be optimized\n",
    "    params_xgboost= {\n",
    "        'tree_method': 'hist',\n",
    "        'enable_categorical': 'True',\n",
    "        'objective': 'binary:logistic',\n",
    "        'eval_metric': 'error',\n",
    "        'n_estimators': trial.suggest_int('n_estimators', 30, 5000),\n",
    "        'learning_rate': trial.suggest_float('learning_rate', 0.001, 0.01, log=True),\n",
    "        'max_depth': trial.suggest_int('max_depth', 4, 15),\n",
    "        'random_state': 897465162\n",
    "    } \n",
    "        \n",
    "    model = xgb.XGBClassifier(**params_xgboost)\n",
    "    \n",
    "    # Create pipeline\n",
    "    pipeline = Pipeline(steps=[('model', model)])\n",
    "    \n",
    "    # Evaluate model using cross-validation\n",
    "    kf = KFold(n_splits=10, shuffle=True, random_state=2376326)\n",
    "    ndcg_scorer = make_scorer(custom_ndcg_score, response_method=\"predict\") \n",
    "    scores = cross_val_score(pipeline, X_train, y_train, scoring=ndcg_scorer, cv=kf, n_jobs=-1)\n",
    "    return scores.mean()\n",
    "\n",
    "# Create study object and optimize hyperparameters\n",
    "start_time = time.time()\n",
    "\n",
    "best_xgboost = optuna.create_study(study_name='xgboost_opt', direction='maximize')\n",
    "best_xgboost.optimize(objective, n_trials=5)\n",
    "\n",
    "# Get the best hyperparameters for random forest \n",
    "best_params_xgboost = best_xgboost.best_params\n",
    "end_time = time.time()\n",
    "elapsed_time = (end_time - start_time)/60\n",
    "\n",
    "print(f\"elapsed time: {elapsed_time:.2f} minutes:\")\n",
    "print(\"Best hyperparameters found:\", best_params_xgboost)\n",
    "\n",
    "model = xgb.XGBClassifier(n_jobs=4, **best_params_xgboost)\n",
    "model.fit(X_train, y_train)\n",
    "y_pred = model.predict(X_test)\n",
    "ncgd_score_best = custom_ndcg_score(y_test, y_pred)\n",
    "print('Metric with best_params: ', ncgd_score_best)"
   ]
  },
  {
   "cell_type": "markdown",
   "metadata": {},
   "source": [
    "Вывод: Слишком долгие вычисления. Нецелесообразно"
   ]
  },
  {
   "cell_type": "markdown",
   "metadata": {},
   "source": [
    "#### Подбор функции ошибки"
   ]
  },
  {
   "cell_type": "code",
   "execution_count": 25,
   "metadata": {},
   "outputs": [],
   "source": [
    "xgb_model = xgb.XGBClassifier(\n",
    "    objective='binary:logitraw', \n",
    "    n_estimators=250,\n",
    "    learning_rate=0.05,\n",
    "    colsample_bytree=0.70,\n",
    "    max_depth=10,\n",
    "    n_jobs=4\n",
    ")"
   ]
  },
  {
   "cell_type": "code",
   "execution_count": null,
   "metadata": {},
   "outputs": [],
   "source": [
    "parameters_xgboost = {\n",
    "    'X': X_train,\n",
    "    'y': y_train,\n",
    "    'early_stopping_rounds': 5,\n",
    "    'eval_set': [(X_test, y_test)],\n",
    "    'verbose' :False\n",
    "}\n",
    "xgboost_score = train_and_test_model(xgb_model, parameters_xgboost) \n",
    "xgboost_score"
   ]
  },
  {
   "cell_type": "markdown",
   "metadata": {},
   "source": [
    "### Разбиение жанров на отдельные фичи"
   ]
  },
  {
   "cell_type": "markdown",
   "metadata": {},
   "source": [
    "**Комментарий к просиходящему:** Музыкальные жанры описаны через вертикальную черту. Разделим их на отдельные признаки и попробуем обучить XGBoostClassifier"
   ]
  },
  {
   "cell_type": "code",
   "execution_count": null,
   "metadata": {},
   "outputs": [],
   "source": []
  },
  {
   "cell_type": "markdown",
   "metadata": {},
   "source": [
    "# Заключение"
   ]
  },
  {
   "cell_type": "markdown",
   "metadata": {},
   "source": [
    "Лучшая метрика качества была достигнута при использовании XGBoostClassifier и составила **0.87**. В качестве метрики использовалась logistic error. \n",
    "Результаты feature engineering:\n",
    "1. Добавлены фичи:\n",
    "- дата регистрации и окончания действия подписки у пользователя;\n",
    "- время продления подписки;\n",
    "- количество композиторов, исполлнителей, жанров произведения;\n",
    "2. Проверена производительность моделей:\n",
    "- LogistirRegression (ndcg_score = 0.8444671459282674)\n",
    "- CatBoostClassifier (ndcg_score = 0.8669356207478021)\n",
    "- XGBoostClassifier (ndcg_score = 0.8731065469345449)\n",
    "\n",
    "Улучшение метрик возможно при:\n",
    "- более тщательном подборе функции ошибки;\n",
    "- разбиении музыкальных жанров на отдельные фичи для участия их в обучении;\n",
    "- использовании дополнительной информации о музыке (isrc)"
   ]
  },
  {
   "cell_type": "markdown",
   "metadata": {},
   "source": []
  },
  {
   "cell_type": "markdown",
   "metadata": {},
   "source": []
  }
 ],
 "metadata": {
  "kernelspec": {
   "display_name": ".venv",
   "language": "python",
   "name": "python3"
  },
  "language_info": {
   "codemirror_mode": {
    "name": "ipython",
    "version": 3
   },
   "file_extension": ".py",
   "mimetype": "text/x-python",
   "name": "python",
   "nbconvert_exporter": "python",
   "pygments_lexer": "ipython3",
   "version": "3.11.5"
  }
 },
 "nbformat": 4,
 "nbformat_minor": 2
}
